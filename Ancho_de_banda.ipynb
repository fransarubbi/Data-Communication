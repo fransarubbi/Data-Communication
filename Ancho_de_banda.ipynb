{
  "nbformat": 4,
  "nbformat_minor": 0,
  "metadata": {
    "colab": {
      "provenance": []
    },
    "kernelspec": {
      "name": "python3",
      "display_name": "Python 3"
    },
    "language_info": {
      "name": "python"
    }
  },
  "cells": [
    {
      "cell_type": "markdown",
      "source": [
        "# Ancho de Banda\n",
        "\n",
        "Comunicación de Datos -  Ing. Computación\n",
        "\n",
        "Universidad Nacional de San Luis 2024\n"
      ],
      "metadata": {
        "id": "HXHuTR_YY5nX"
      }
    },
    {
      "cell_type": "code",
      "source": [],
      "metadata": {
        "id": "Vz1hrN54mp1c"
      },
      "execution_count": null,
      "outputs": []
    },
    {
      "cell_type": "markdown",
      "source": [
        "\n",
        "**Objetivos:**\n",
        "\n",
        "Estime numéricamente qué porcentaje de la energía de una señal de pulsos está contenida en el primer, segundo y tercer lóbulo de su espectro.\n",
        "\n",
        "Estime también que ancho de banda se requiere para obtener el 99% y 90% de la energía de la señal, y\n",
        "\n",
        "a que ancho de banda se obtiene el punto de -3dB respecto de la máxima amplitud de la señal.\n"
      ],
      "metadata": {
        "id": "ehnGubDYZpQA"
      }
    },
    {
      "cell_type": "code",
      "source": [
        "\n",
        "#--------------------------------------------------------------------\n",
        "#         Recordar que la FFT es Fast Fourier Transform\n",
        "#--------------------------------------------------------------------\n",
        "# La FFT es un algoritmo que permite calcular la DFT de una secuencia de manera mucho más eficiente.\n",
        "# La DFT directa tiene una complejidad computacional de O(N2)O(N2), lo que puede ser muy lento para\n",
        "# secuencias largas. La FFT reduce esta complejidad a O(Nlog⁡N)O(NlogN), haciendo posible el análisis de señales\n",
        "# largas en un tiempo razonable. La FFT explota las simetrías y periodicidades en los coeficientes de Fourier para\n",
        "# reducir el número de cálculos necesarios. El algoritmo más comúnmente usado para la FFT es el algoritmo de Cooley-Tukey,\n",
        "# que divide recursivamente una DFT de tamaño NN en dos DFT de tamaño N/2N/2, y así sucesivamente.\n",
        "# Este enfoque de \"divide y vencerás\" permite una drástica reducción en el número de operaciones aritméticas\n",
        "#--------------------------------------------------------------------\n",
        "\n",
        "\n",
        "import numpy as np\n",
        "import matplotlib.pyplot as plt\n",
        "from scipy.signal import hilbert, chirp\n",
        "from mpl_toolkits.mplot3d import Axes3D\n",
        "\n",
        "\n",
        "\n",
        "# Parámetros de simulación\n",
        "Fs = 8192       #frecuencia de muestreo\n",
        "tmax=8192/Fs    #tiempo máximo de la simulación, calculado como la duración total de la señal en segundos\n",
        "\n",
        "retardo=0.0\n",
        "duracion=.1\n",
        "\n",
        "# Instantes de muestreo de la señal\n",
        "t = np.arange(0, tmax, step=1. / Fs)  #vector que contiene los instantes de muestreo de la señal, desde 0 hasta tmax con un paso de 1/Fs (periodo)\n",
        "\n",
        "# Generación de la señal\n",
        "pu=t-t    #inicializa el vector pu con ceros\n",
        "pu[round(retardo*Fs):round((retardo+duracion)*Fs)]=1\n",
        "#modifica el vector pu asignando el valor 1 a un rango específico de elementos.\n",
        "#El rango se define utilizando la notación de corte de rebanadas extendida en Python.\n",
        "#  round(retardo*Fs): Calcula el índice entero correspondiente al inicio del rango.\n",
        "#                     se multiplica el retardo por la frecuencia de muestreo (Fs) y se redondea al entero más cercano.\n",
        "#  round((retardo+duracion)*Fs): Calcula el índice entero correspondiente al final del rango.\n",
        "#                                Se multiplica la suma de retardo y duracion por la frecuencia de muestreo (Fs) y\n",
        "#                                se redondea al entero más cercano.\n",
        "#  Resumen: El código crea un vector de pulso rectangular con un ancho de duracion segundos y un retardo de\n",
        "#           retardo segundos. El vector tiene el valor 1 dentro del rango de tiempo especificado por el\n",
        "#           retardo y la duración, y el valor 0 en el resto del vector.\n",
        "#  Importante: Una mayor frecuencia de muestreo, da como resultado una representacion mas precisa del pulso.\n",
        "\n",
        "\n",
        "\n",
        "# Grafico de la señal en el dominio del tiempo\n",
        "fig = plt.figure(figsize=[10,5])\n",
        "ax_t = fig.add_subplot(121)\n",
        "ax_t.plot(t, pu, c='b',linewidth=0.5)\n",
        "\n",
        "\n",
        "# Calcular la FFT de la señal\n",
        "fft_result = np.fft.fft(pu)    #aplica la Transformada Rápida de Fourier (FFT) al vector pu utilizando la función np.fft.fft del módulo fft de NumPy.\n",
        "fft_shifted = np.fft.fftshift(fft_result)  # Desplazar la FFT para que la frecuencia 0 esté en el centro\n",
        "\n",
        "# Crear vector de frecuencias desplazadas\n",
        "frequencies = np.fft.fftfreq(len(pu), 1/Fs)\n",
        "frequencies_shifted = np.fft.fftshift(frequencies)\n",
        "print(max(fft_shifted))\n",
        "\n",
        "# Graficar la FFT\n",
        "ax_f= fig.add_subplot(122)\n",
        "ax_f.axes.set_xlim(left=-1000, right=1000)\n",
        "ax_f.plot(frequencies_shifted, np.abs(fft_shifted), 'r',linewidth=0.5)\n",
        "ax_f.plot(frequencies_shifted, np.angle(fft_shifted),'g', linewidth=0.5)\n",
        "\n",
        "\n"
      ],
      "metadata": {
        "colab": {
          "base_uri": "https://localhost:8080/",
          "height": 480
        },
        "id": "Doar9XpTPBFp",
        "outputId": "1cd3167a-6827-4954-c403-fc76b38f2847"
      },
      "execution_count": 3,
      "outputs": [
        {
          "output_type": "stream",
          "name": "stdout",
          "text": [
            "(819+0j)\n"
          ]
        },
        {
          "output_type": "execute_result",
          "data": {
            "text/plain": [
              "[<matplotlib.lines.Line2D at 0x7bb5fb38a0e0>]"
            ]
          },
          "metadata": {},
          "execution_count": 3
        },
        {
          "output_type": "display_data",
          "data": {
            "text/plain": [
              "<Figure size 1000x500 with 2 Axes>"
            ],
            "image/png": "[encoded data removed]"
          },
          "metadata": {}
        }
      ]
    },
    {
      "cell_type": "code",
      "source": [
        "# integra el valor cuadrado de la matriz fft_shifted\n",
        "# de esta forma se calcula la energia de una señal\n",
        "# utilizando la fft\n",
        "\n",
        "import numpy as np\n",
        "\n",
        "# Calcular el cuadrado de los valores de FFT.\n",
        "fft_squared = np.square(np.abs(fft_shifted))\n",
        "\n",
        "# Integrar los valores cuadrados\n",
        "energy = np.trapz(fft_squared, frequencies_shifted)\n",
        "\n",
        "print(\"Energia total de la señal:\", energy)\n"
      ],
      "metadata": {
        "colab": {
          "base_uri": "https://localhost:8080/"
        },
        "id": "0x02lg8uoFV-",
        "outputId": "44c09060-150c-4099-efd3-d770788589c8"
      },
      "execution_count": 4,
      "outputs": [
        {
          "output_type": "stream",
          "name": "stdout",
          "text": [
            "Energia total de la señal: 6709247.047723146\n"
          ]
        }
      ]
    },
    {
      "cell_type": "code",
      "source": [
        "# calcular la energía de fft_shifted hasta frecuencia_shifted = 1/duracion\n",
        "# esto para poder calcular la energia del primer lobulo, desde -1/periodo hasta 1/periodo\n",
        "\n",
        "#-------------------------------------\n",
        "#      Integracion Trapezoidal\n",
        "#-------------------------------------\n",
        "#  es un método numérico para aproximar el valor de una integral definida. Es uno de los métodos de cuadratura\n",
        "#  más simples y se basa en la idea de aproximar el área bajo una curva mediante una serie de trapecios y\n",
        "#  sumarlos. Dada una función f(x) que queremos integrar en el intervalo [a,b], la regla del trapecio\n",
        "#  divide este intervalo en n subintervalos de igual longitud y aproxima el área bajo la curva f(x) como la suma de las áreas de trapecios.\n",
        "\n",
        "\n",
        "\n",
        "import numpy as np\n",
        "# Calcula la energía de fft_shifted hasta frecuencia_shifted = 1/duracion\n",
        "energy_up_to_1_over_duration = np.trapz(fft_squared[np.abs(frequencies_shifted) < 1/duracion], frequencies_shifted[np.abs(frequencies_shifted) < 1/duracion])\n",
        "# np.abs(frequencies_shifted) < 1/duracion crea una máscara booleana donde True indica elementos en\n",
        "# frequencies_shifted con valores absolutos menores a 1/duracion. Esto selecciona frecuencias dentro de un rango específico\n",
        "# fft_squared[np.abs(frequencies_shifted) < 1/duracion] usa esta máscara para filtrar el arreglo fft_squared, conservando\n",
        "# solo las magnitudes cuadradas correspondientes al rango de frecuencia seleccionado.\n",
        "# np.trapz integra los valores filtrados de fft_squared con respecto a los frequencies_shifted filtrados correspondientes\n",
        "# utilizando la integración trapezoidal numérica. Esto calcula la energía dentro del rango de frecuencia seleccionado\n",
        "\n",
        "\n",
        "print(\"Energia en el primer lobulo:\", energy_up_to_1_over_duration)\n",
        "\n",
        "# Calcula el porcentaje de energía en el primer lóbulo.\n",
        "percentage_energy_first_lobe = energy_up_to_1_over_duration / energy * 100\n",
        "\n",
        "print(\"Porcentaje de energia del primer lobulo:\", percentage_energy_first_lobe, \"%\")\n"
      ],
      "metadata": {
        "colab": {
          "base_uri": "https://localhost:8080/"
        },
        "id": "urenc4zPoo1t",
        "outputId": "6ea844c0-ea6c-4fcd-f62c-c39cc701f5bc"
      },
      "execution_count": 5,
      "outputs": [
        {
          "output_type": "stream",
          "name": "stdout",
          "text": [
            "Energia en el primer lobulo: 6049235.79111194\n",
            "Porcentaje de energia del primer lobulo: 90.1626627859055 %\n"
          ]
        }
      ]
    },
    {
      "cell_type": "code",
      "source": [
        "# Calcula el porcentaje de energia de los otros lobulos\n",
        "\n",
        "\n",
        "import numpy as np\n",
        "# Calcula la energia de fft_shifted con frequency_shifted = 2/duracion\n",
        "# Considera frecuencias dentro del rango absoluto menor a 2/duracion.\n",
        "# Esto selecciona efectivamente los dos primeros lóbulos del espectro\n",
        "energy_up_to_2_over_duration = np.trapz(fft_squared[np.abs(frequencies_shifted) < 2/duracion], frequencies_shifted[np.abs(frequencies_shifted) < 2/duracion])\n",
        "print(\"Energia de los dos primeros lobulos:\", energy_up_to_2_over_duration)\n",
        "\n",
        "\n",
        "# Calcula el porcentaje de energia de los dos primeros lobulos\n",
        "percentage_energy_first_two_lobes = energy_up_to_2_over_duration / energy * 100\n",
        "print(\"Porcentaje de energia de los dos primeros lobulos:\", percentage_energy_first_two_lobes, \"%\")\n",
        "\n",
        "\n",
        "\n",
        "# Calcula la energia de fft_shifted con frequency_shifted = 3/duracion\n",
        "# Considera frecuencias dentro del rango absoluto menor a 2/duracion.\n",
        "# Esto selecciona efectivamente los dos primeros lóbulos del espectro\n",
        "energy_up_to_3_over_duration = np.trapz(fft_squared[np.abs(frequencies_shifted) < 3/duracion], frequencies_shifted[np.abs(frequencies_shifted) < 3/duracion])\n",
        "print(\"Porcentaje de energia de los tres primeros lobulos:\", energy_up_to_3_over_duration)\n",
        "\n",
        "\n",
        "\n",
        "# Calcula el porcentaje de energia en los primeros tres lobulos respecto del total\n",
        "percentage_energy_first_three_lobes = energy_up_to_3_over_duration / energy * 100\n",
        "print(\"Porcentaje de energia en los primeros 3 lobulos:\", percentage_energy_first_three_lobes, \"%\")\n"
      ],
      "metadata": {
        "colab": {
          "base_uri": "https://localhost:8080/"
        },
        "id": "eMsuorDXo6Au",
        "outputId": "2ae7d955-db7a-40fd-9543-5857cc85aec1"
      },
      "execution_count": 6,
      "outputs": [
        {
          "output_type": "stream",
          "name": "stdout",
          "text": [
            "Energia de los dos primeros lobulos: 6371570.518299309\n",
            "Porcentaje de energia de los dos primeros lobulos: 94.96699812926948 %\n",
            "Porcentaje de energia de los tres primeros lobulos: 6483113.557756283\n",
            "Porcentaje de energia en los primeros 3 lobulos: 96.62952506654821 %\n"
          ]
        }
      ]
    },
    {
      "cell_type": "code",
      "source": [
        "print(\"Porcentaje de energia en el primer lobulo:\", percentage_energy_first_lobe, \"%\")\n",
        "print(\"Porcentaje de energia en el segundo lobulo:\", percentage_energy_first_two_lobes-percentage_energy_first_lobe, \"%\")\n",
        "print(\"Porcentaje de energia en el tercer lobulo:\", percentage_energy_first_three_lobes-percentage_energy_first_two_lobes, \"%\")"
      ],
      "metadata": {
        "colab": {
          "base_uri": "https://localhost:8080/"
        },
        "id": "qdp7XBWerOgN",
        "outputId": "33ff999b-14f7-47ef-b41b-2e8de53f5d9e"
      },
      "execution_count": 5,
      "outputs": [
        {
          "output_type": "stream",
          "name": "stdout",
          "text": [
            "Porcentaje de energia en el primer lobulo: 90.1632209522797 %\n",
            "Porcentaje de energia en el segundo lobulo: 4.803954827586168 %\n",
            "Porcentaje de energia en el tercer lobulo: 1.662377207413769 %\n"
          ]
        }
      ]
    },
    {
      "cell_type": "markdown",
      "source": [
        "## Estime también que ancho de banda se requiere para obtener el 99% y 90% de la energía de la señal"
      ],
      "metadata": {
        "id": "-CtaUmPFwAsf"
      }
    },
    {
      "cell_type": "code",
      "source": [
        "# calcular las frecuencias (frequencies_shifted) hasta las cuales la energía de fft_shifted es 90 y 99%\n",
        "\n",
        "import numpy as np\n",
        "# Calcula la suma acumulada de la energía en fft_squared\n",
        "cumulative_energy = np.cumsum(fft_squared)\n",
        "# Esto se refiere a la función NumPy cumsum que realiza una suma acumulativa. Toma una matriz como entrada\n",
        "# y devuelve una nueva matriz donde cada elemento representa la suma de sí mismo y de todos los elementos\n",
        "# anteriores de la matriz original.\n",
        "\n",
        "\n",
        "# Encuentra las frecuencias donde la energía acumulada alcanza el 90% y el 99% de la energía total\n",
        "frequencies_90_percent = frequencies_shifted[np.argwhere(cumulative_energy >= 0.9 * energy)[0][0]]\n",
        "frequencies_99_percent = frequencies_shifted[np.argwhere(cumulative_energy >= 0.99 * energy)[0][0]]\n",
        "\n",
        "# Print the results\n",
        "print(\"Frecuencias hasta las cuales la energía de fft_shifted es del 90%:\", frequencies_90_percent)\n",
        "print(\"Frecuencias hasta las cuales la energía de fft_shifted es del 99%:\", frequencies_99_percent)\n"
      ],
      "metadata": {
        "colab": {
          "base_uri": "https://localhost:8080/"
        },
        "id": "EskYW1Mttf1R",
        "outputId": "011ba370-6a58-4847-dc11-62791c4be9a8"
      },
      "execution_count": 7,
      "outputs": [
        {
          "output_type": "stream",
          "name": "stdout",
          "text": [
            "Frecuencias hasta las cuales la energía de fft_shifted es del 90%: 5.0\n",
            "Frecuencias hasta las cuales la energía de fft_shifted es del 99%: 52.0\n"
          ]
        }
      ]
    },
    {
      "cell_type": "code",
      "source": [
        "# calcula y muestra el porcentaje de energía acumulada de la Transformada Rápida de Fourier (FFT) de una\n",
        "# señal hasta diferentes frecuencias límite, que van desde 10 Hz hasta 500 Hz en incrementos de 10 Hz\n",
        "\n",
        "import numpy as np\n",
        "\n",
        "\n",
        "# Define el limite superior de frecuencia\n",
        "upper_limit = 500\n",
        "\n",
        "# Inicializar lista de porcentajes\n",
        "percentages = []\n",
        "\n",
        "# Bucle a traves de frecuencias de 10Hz a 500Hz, saltando de a 10Hz\n",
        "for frequency in range(10, upper_limit + 1, 10):\n",
        "  # Calculo de la energia acumulada hasta la frecuencia actual\n",
        "  energy_up_to_frequency = np.trapz(fft_squared[np.abs(frequencies_shifted) < frequency], frequencies_shifted[np.abs(frequencies_shifted) < frequency])\n",
        "\n",
        "  # Calcula el porcentaje de energia acumulada hasta la frecuencia actual\n",
        "  percentage_energy = energy_up_to_frequency / energy * 100\n",
        "\n",
        "  # cargar el porcentaje a la lista\n",
        "  percentages.append(percentage_energy)\n",
        "\n",
        "  # mostrar\n",
        "  print(f\"Porcentaje de energia hasta {frequency} Hz: {percentage_energy:.2f}%\")\n"
      ],
      "metadata": {
        "colab": {
          "base_uri": "https://localhost:8080/"
        },
        "id": "xGTWOlPtuV89",
        "outputId": "5b0cdee1-e33c-447e-9c60-14e2fc09f7c9"
      },
      "execution_count": 8,
      "outputs": [
        {
          "output_type": "stream",
          "name": "stdout",
          "text": [
            "Porcentaje de energia hasta 10 Hz: 90.16%\n",
            "Porcentaje de energia hasta 20 Hz: 94.97%\n",
            "Porcentaje de energia hasta 30 Hz: 96.63%\n",
            "Porcentaje de energia hasta 40 Hz: 97.47%\n",
            "Porcentaje de energia hasta 50 Hz: 97.97%\n",
            "Porcentaje de energia hasta 60 Hz: 98.31%\n",
            "Porcentaje de energia hasta 70 Hz: 98.55%\n",
            "Porcentaje de energia hasta 80 Hz: 98.73%\n",
            "Porcentaje de energia hasta 90 Hz: 98.87%\n",
            "Porcentaje de energia hasta 100 Hz: 98.99%\n",
            "Porcentaje de energia hasta 110 Hz: 99.08%\n",
            "Porcentaje de energia hasta 120 Hz: 99.16%\n",
            "Porcentaje de energia hasta 130 Hz: 99.22%\n",
            "Porcentaje de energia hasta 140 Hz: 99.28%\n",
            "Porcentaje de energia hasta 150 Hz: 99.32%\n",
            "Porcentaje de energia hasta 160 Hz: 99.37%\n",
            "Porcentaje de energia hasta 170 Hz: 99.40%\n",
            "Porcentaje de energia hasta 180 Hz: 99.44%\n",
            "Porcentaje de energia hasta 190 Hz: 99.47%\n",
            "Porcentaje de energia hasta 200 Hz: 99.49%\n",
            "Porcentaje de energia hasta 210 Hz: 99.52%\n",
            "Porcentaje de energia hasta 220 Hz: 99.54%\n",
            "Porcentaje de energia hasta 230 Hz: 99.56%\n",
            "Porcentaje de energia hasta 240 Hz: 99.58%\n",
            "Porcentaje de energia hasta 250 Hz: 99.60%\n",
            "Porcentaje de energia hasta 260 Hz: 99.61%\n",
            "Porcentaje de energia hasta 270 Hz: 99.63%\n",
            "Porcentaje de energia hasta 280 Hz: 99.64%\n",
            "Porcentaje de energia hasta 290 Hz: 99.65%\n",
            "Porcentaje de energia hasta 300 Hz: 99.66%\n",
            "Porcentaje de energia hasta 310 Hz: 99.67%\n",
            "Porcentaje de energia hasta 320 Hz: 99.68%\n",
            "Porcentaje de energia hasta 330 Hz: 99.69%\n",
            "Porcentaje de energia hasta 340 Hz: 99.70%\n",
            "Porcentaje de energia hasta 350 Hz: 99.71%\n",
            "Porcentaje de energia hasta 360 Hz: 99.72%\n",
            "Porcentaje de energia hasta 370 Hz: 99.73%\n",
            "Porcentaje de energia hasta 380 Hz: 99.74%\n",
            "Porcentaje de energia hasta 390 Hz: 99.74%\n",
            "Porcentaje de energia hasta 400 Hz: 99.75%\n",
            "Porcentaje de energia hasta 410 Hz: 99.75%\n",
            "Porcentaje de energia hasta 420 Hz: 99.76%\n",
            "Porcentaje de energia hasta 430 Hz: 99.77%\n",
            "Porcentaje de energia hasta 440 Hz: 99.77%\n",
            "Porcentaje de energia hasta 450 Hz: 99.78%\n",
            "Porcentaje de energia hasta 460 Hz: 99.78%\n",
            "Porcentaje de energia hasta 470 Hz: 99.79%\n",
            "Porcentaje de energia hasta 480 Hz: 99.79%\n",
            "Porcentaje de energia hasta 490 Hz: 99.80%\n",
            "Porcentaje de energia hasta 500 Hz: 99.80%\n"
          ]
        }
      ]
    },
    {
      "cell_type": "markdown",
      "source": [
        "## A que ancho de banda se obtiene el punto de -3dB respecto de la máxima amplitud de la señal?"
      ],
      "metadata": {
        "id": "DtGKJCyVwKNX"
      }
    },
    {
      "cell_type": "code",
      "source": [
        "#  encontrar la frecuencia a la que la potencia de la fft disminuye a -3dB\n",
        "#  por debajo de la potencia máxima dentro del primer lóbulo de la transformada. El nivel de -3dB corresponde\n",
        "#  a la mitad de la potencia máxima, ya que −3dB se calcula como 10log10​(0.5)\n",
        "\n",
        "import numpy as np\n",
        "\n",
        "# encuentra el valor máximo en fft_squared\n",
        "max_power = np.max(fft_squared)\n",
        "\n",
        "# encontrar la frecuencia donde la potencia cae a -3dB (la mitad de la potencia máxima)\n",
        "frequency_3db = frequencies_shifted[np.argwhere(fft_squared <= max_power * 0.5)]\n",
        "# np.argwhere(fft_squared <= max_power * 0.5) devuelve los índices donde fft_squared es menor o igual a la mitad de la potencia máxima\n",
        "\n",
        "# mostrar\n",
        "print(\"Frecuencia a -3dB:\", np.min(np.abs(frequency_3db)))\n"
      ],
      "metadata": {
        "colab": {
          "base_uri": "https://localhost:8080/"
        },
        "id": "e7gbtD4DwMR6",
        "outputId": "8ae7dfb9-6db3-40ba-a19e-243a0b548a58"
      },
      "execution_count": 9,
      "outputs": [
        {
          "output_type": "stream",
          "name": "stdout",
          "text": [
            "Frequency at -3dB: 5.0\n"
          ]
        }
      ]
    }
  ]
}